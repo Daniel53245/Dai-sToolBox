{
 "cells": [
  {
   "cell_type": "code",
   "execution_count": 54,
   "metadata": {},
   "outputs": [
    {
     "name": "stdout",
     "output_type": "stream",
     "text": [
      "hello world\n"
     ]
    }
   ],
   "source": [
    "print(\"hello world\")"
   ]
  },
  {
   "attachments": {},
   "cell_type": "markdown",
   "metadata": {},
   "source": [
    "<h1>I don't know what to do today. Just play with some code</h1>"
   ]
  },
  {
   "cell_type": "code",
   "execution_count": 55,
   "metadata": {},
   "outputs": [],
   "source": [
    "import date_compiler"
   ]
  },
  {
   "cell_type": "code",
   "execution_count": 56,
   "metadata": {},
   "outputs": [],
   "source": [
    "import numpy as np"
   ]
  },
  {
   "cell_type": "code",
   "execution_count": 57,
   "metadata": {},
   "outputs": [
    {
     "data": {
      "text/plain": [
       "<module 'matplotlib._version' from '/home/dai/.local/lib/python3.10/site-packages/matplotlib/_version.py'>"
      ]
     },
     "execution_count": 57,
     "metadata": {},
     "output_type": "execute_result"
    }
   ],
   "source": [
    "import matplotlib\n",
    "import matplotlib.pyplot as pyplot\n",
    "matplotlib._version"
   ]
  },
  {
   "cell_type": "code",
   "execution_count": 58,
   "metadata": {},
   "outputs": [
    {
     "name": "stdout",
     "output_type": "stream",
     "text": [
      "\n",
      "INSTALLED VERSIONS\n",
      "------------------\n",
      "commit           : 8dab54d6573f7186ff0c3b6364d5e4dd635ff3e7\n",
      "python           : 3.10.6.final.0\n",
      "python-bits      : 64\n",
      "OS               : Linux\n",
      "OS-release       : 5.15.0-56-generic\n",
      "Version          : #62-Ubuntu SMP Tue Nov 22 19:54:14 UTC 2022\n",
      "machine          : x86_64\n",
      "processor        : x86_64\n",
      "byteorder        : little\n",
      "LC_ALL           : None\n",
      "LANG             : en_AU.UTF-8\n",
      "LOCALE           : en_AU.UTF-8\n",
      "\n",
      "pandas           : 1.5.2\n",
      "numpy            : 1.23.5\n",
      "pytz             : 2022.1\n",
      "dateutil         : 2.8.2\n",
      "setuptools       : 59.6.0\n",
      "pip              : 22.0.2\n",
      "Cython           : None\n",
      "pytest           : None\n",
      "hypothesis       : None\n",
      "sphinx           : None\n",
      "blosc            : None\n",
      "feather          : None\n",
      "xlsxwriter       : None\n",
      "lxml.etree       : None\n",
      "html5lib         : None\n",
      "pymysql          : None\n",
      "psycopg2         : None\n",
      "jinja2           : 3.1.2\n",
      "IPython          : 8.7.0\n",
      "pandas_datareader: None\n",
      "bs4              : 4.11.1\n",
      "bottleneck       : None\n",
      "brotli           : None\n",
      "fastparquet      : None\n",
      "fsspec           : None\n",
      "gcsfs            : None\n",
      "matplotlib       : 3.6.3\n",
      "numba            : None\n",
      "numexpr          : None\n",
      "odfpy            : None\n",
      "openpyxl         : None\n",
      "pandas_gbq       : None\n",
      "pyarrow          : 9.0.0\n",
      "pyreadstat       : None\n",
      "pyxlsb           : None\n",
      "s3fs             : None\n",
      "scipy            : 1.10.0\n",
      "snappy           : None\n",
      "sqlalchemy       : None\n",
      "tables           : None\n",
      "tabulate         : 0.9.0\n",
      "xarray           : None\n",
      "xlrd             : None\n",
      "xlwt             : None\n",
      "zstandard        : None\n",
      "tzdata           : None\n"
     ]
    }
   ],
   "source": [
    "import pandas\n",
    "pandas.show_versions()"
   ]
  },
  {
   "cell_type": "code",
   "execution_count": 59,
   "metadata": {},
   "outputs": [
    {
     "name": "stdout",
     "output_type": "stream",
     "text": [
      "\n",
      "System:\n",
      "    python: 3.10.6 (main, Nov 14 2022, 16:10:14) [GCC 11.3.0]\n",
      "executable: /usr/bin/python3\n",
      "   machine: Linux-5.15.0-56-generic-x86_64-with-glibc2.35\n",
      "\n",
      "Python dependencies:\n",
      "      sklearn: 1.2.0\n",
      "          pip: 22.0.2\n",
      "   setuptools: 59.6.0\n",
      "        numpy: 1.23.5\n",
      "        scipy: 1.10.0\n",
      "       Cython: None\n",
      "       pandas: 1.5.2\n",
      "   matplotlib: 3.6.3\n",
      "       joblib: 1.2.0\n",
      "threadpoolctl: 3.1.0\n",
      "\n",
      "Built with OpenMP: True\n",
      "\n",
      "threadpoolctl info:\n",
      "       user_api: blas\n",
      "   internal_api: openblas\n",
      "         prefix: libopenblas\n",
      "       filepath: /home/dai/.local/lib/python3.10/site-packages/numpy.libs/libopenblas64_p-r0-742d56dc.3.20.so\n",
      "        version: 0.3.20\n",
      "threading_layer: pthreads\n",
      "   architecture: Haswell\n",
      "    num_threads: 16\n",
      "\n",
      "       user_api: openmp\n",
      "   internal_api: openmp\n",
      "         prefix: libgomp\n",
      "       filepath: /home/dai/.local/lib/python3.10/site-packages/scikit_learn.libs/libgomp-a34b3233.so.1.0.0\n",
      "        version: None\n",
      "    num_threads: 16\n",
      "\n",
      "       user_api: blas\n",
      "   internal_api: openblas\n",
      "         prefix: libopenblas\n",
      "       filepath: /home/dai/.local/lib/python3.10/site-packages/scipy.libs/libopenblasp-r0-41284840.3.18.so\n",
      "        version: 0.3.18\n",
      "threading_layer: pthreads\n",
      "   architecture: Haswell\n",
      "    num_threads: 16\n"
     ]
    }
   ],
   "source": [
    "import sklearn\n",
    "sklearn.show_versions()"
   ]
  },
  {
   "attachments": {},
   "cell_type": "markdown",
   "metadata": {},
   "source": [
    "Finish moduel import\n"
   ]
  },
  {
   "cell_type": "code",
   "execution_count": 60,
   "metadata": {},
   "outputs": [
    {
     "data": {
      "text/html": [
       "<div>\n",
       "<style scoped>\n",
       "    .dataframe tbody tr th:only-of-type {\n",
       "        vertical-align: middle;\n",
       "    }\n",
       "\n",
       "    .dataframe tbody tr th {\n",
       "        vertical-align: top;\n",
       "    }\n",
       "\n",
       "    .dataframe thead th {\n",
       "        text-align: right;\n",
       "    }\n",
       "</style>\n",
       "<table border=\"1\" class=\"dataframe\">\n",
       "  <thead>\n",
       "    <tr style=\"text-align: right;\">\n",
       "      <th></th>\n",
       "      <th>Date</th>\n",
       "      <th>Amount</th>\n",
       "      <th>Target</th>\n",
       "      <th>Balance</th>\n",
       "    </tr>\n",
       "  </thead>\n",
       "  <tbody>\n",
       "    <tr>\n",
       "      <th>0</th>\n",
       "      <td>2022-12-31</td>\n",
       "      <td>-17.50</td>\n",
       "      <td>HungryPanda AU Melbourne CBD AU AUS Card xx576...</td>\n",
       "      <td>10729.68</td>\n",
       "    </tr>\n",
       "    <tr>\n",
       "      <th>1</th>\n",
       "      <td>2022-12-30</td>\n",
       "      <td>-104.00</td>\n",
       "      <td>TheGamesCapital 38 Garema PlaAU</td>\n",
       "      <td>10747.18</td>\n",
       "    </tr>\n",
       "    <tr>\n",
       "      <th>2</th>\n",
       "      <td>2022-12-30</td>\n",
       "      <td>-500.00</td>\n",
       "      <td>TOP USED CARS PTY LTD FYSHWICK AU</td>\n",
       "      <td>10851.18</td>\n",
       "    </tr>\n",
       "    <tr>\n",
       "      <th>3</th>\n",
       "      <td>2022-12-30</td>\n",
       "      <td>-0.99</td>\n",
       "      <td>OFFICEWORKS 0261 FYSHWICACT AU</td>\n",
       "      <td>11351.18</td>\n",
       "    </tr>\n",
       "    <tr>\n",
       "      <th>4</th>\n",
       "      <td>2022-12-29</td>\n",
       "      <td>-49.99</td>\n",
       "      <td>Riot* LO2LAB9X38Q2 Dublin IR IRL Card xx5767 A...</td>\n",
       "      <td>11352.17</td>\n",
       "    </tr>\n",
       "  </tbody>\n",
       "</table>\n",
       "</div>"
      ],
      "text/plain": [
       "        Date  Amount                                             Target  \\\n",
       "0 2022-12-31  -17.50  HungryPanda AU Melbourne CBD AU AUS Card xx576...   \n",
       "1 2022-12-30 -104.00                    TheGamesCapital 38 Garema PlaAU   \n",
       "2 2022-12-30 -500.00                  TOP USED CARS PTY LTD FYSHWICK AU   \n",
       "3 2022-12-30   -0.99                     OFFICEWORKS 0261 FYSHWICACT AU   \n",
       "4 2022-12-29  -49.99  Riot* LO2LAB9X38Q2 Dublin IR IRL Card xx5767 A...   \n",
       "\n",
       "    Balance  \n",
       "0  10729.68  \n",
       "1  10747.18  \n",
       "2  10851.18  \n",
       "3  11351.18  \n",
       "4  11352.17  "
      ]
     },
     "execution_count": 60,
     "metadata": {},
     "output_type": "execute_result"
    }
   ],
   "source": [
    "DFbills_2022 = pandas.read_csv(\"2022Bills.csv\")\n",
    "DFbills_2022[\"Date\"] = DFbills_2022[\"Date\"].apply(date_compiler.dateCompile)\n",
    "DFbills_2022.head()"
   ]
  },
  {
   "cell_type": "code",
   "execution_count": 84,
   "metadata": {},
   "outputs": [
    {
     "name": "stdout",
     "output_type": "stream",
     "text": [
      "        Date  Amount                                             Target  \\\n",
      "0 2022-03-19  300.00  CASH DEPOSIT CBA ATM AUST NAT UNI A ACT 290301...   \n",
      "1 2022-03-22  -17.00  PADDLE.NET*GBLDELIGHT London GBR Card xx5767 A...   \n",
      "2 2022-03-23  -89.00  eBay O*21-08401-00044 Sydney AU AUS Card xx576...   \n",
      "3 2022-03-23  -28.80  eBay O*05-08405-68206 Sydney AU AUS Card xx576...   \n",
      "4 2022-03-23  -12.65  THIRSTY CAMEL DAILY ACTON AC AUS Card xx5767 V...   \n",
      "\n",
      "   Balance  \n",
      "0   300.00  \n",
      "1   283.00  \n",
      "2   165.20  \n",
      "3   254.20  \n",
      "4   152.55  \n",
      "          Date  Amount                                             Target  \\\n",
      "553 2022-12-29  -19.96  HungryPanda AU Melbourne CBD AU AUS Card xx576...   \n",
      "554 2022-12-30   -0.99                     OFFICEWORKS 0261 FYSHWICACT AU   \n",
      "555 2022-12-30 -500.00                  TOP USED CARS PTY LTD FYSHWICK AU   \n",
      "556 2022-12-30 -104.00                    TheGamesCapital 38 Garema PlaAU   \n",
      "557 2022-12-31  -17.50  HungryPanda AU Melbourne CBD AU AUS Card xx576...   \n",
      "\n",
      "      Balance  \n",
      "553  11471.92  \n",
      "554  11351.18  \n",
      "555  10851.18  \n",
      "556  10747.18  \n",
      "557  10729.68  \n",
      "2022-03-19 00:00:00\n"
     ]
    }
   ],
   "source": [
    "DFbills_date_asc =  DFbills_2022.sort_values(by =[\"Date\"],ascending=True,ignore_index =True)\n",
    "print(DFbills_date_asc.head())\n",
    "print(DFbills_date_asc.tail())\n",
    "print(DFbills_date_asc[\"Date\"][0])"
   ]
  },
  {
   "cell_type": "code",
   "execution_count": 87,
   "metadata": {},
   "outputs": [
    {
     "data": {
      "text/plain": [
       "0       0 days\n",
       "1       3 days\n",
       "2       4 days\n",
       "3       4 days\n",
       "4       4 days\n",
       "        ...   \n",
       "553   285 days\n",
       "554   286 days\n",
       "555   286 days\n",
       "556   286 days\n",
       "557   287 days\n",
       "Name: Date, Length: 558, dtype: timedelta64[ns]"
      ]
     },
     "execution_count": 87,
     "metadata": {},
     "output_type": "execute_result"
    }
   ],
   "source": [
    "Date0 = DFbills_date_asc[\"Date\"][0]\n",
    "DFbills_date_from0 = DFbills_date_asc[:]\n",
    "DFbills_date_from0.head()\n",
    "date0 = DFbills_date_from0[\"Date\"][0]\n",
    "DFbills_date_from0[\"Date\"].apply(lambda x:x-date0)"
   ]
  },
  {
   "cell_type": "code",
   "execution_count": 90,
   "metadata": {},
   "outputs": [
    {
     "data": {
      "text/plain": [
       "[<matplotlib.lines.Line2D at 0x7fd74206c550>]"
      ]
     },
     "execution_count": 90,
     "metadata": {},
     "output_type": "execute_result"
    },
    {
     "data": {
      "image/png": "[encoded data removed]",
      "text/plain": [
       "<Figure size 640x480 with 1 Axes>"
      ]
     },
     "metadata": {},
     "output_type": "display_data"
    }
   ],
   "source": [
    "fig = pyplot.figure()\n",
    "ax1 = fig.add_subplot(111)\n",
    "ax1.plot(range(0,len(DFbills_date_from0[\"Balance\"])),DFbills_date_from0[\"Balance\"])"
   ]
  },
  {
   "cell_type": "code",
   "execution_count": null,
   "metadata": {},
   "outputs": [],
   "source": []
  },
  {
   "cell_type": "code",
   "execution_count": 77,
   "metadata": {},
   "outputs": [
    {
     "data": {
      "text/html": [
       "<div>\n",
       "<style scoped>\n",
       "    .dataframe tbody tr th:only-of-type {\n",
       "        vertical-align: middle;\n",
       "    }\n",
       "\n",
       "    .dataframe tbody tr th {\n",
       "        vertical-align: top;\n",
       "    }\n",
       "\n",
       "    .dataframe thead th {\n",
       "        text-align: right;\n",
       "    }\n",
       "</style>\n",
       "<table border=\"1\" class=\"dataframe\">\n",
       "  <thead>\n",
       "    <tr style=\"text-align: right;\">\n",
       "      <th></th>\n",
       "      <th>Date</th>\n",
       "      <th>Amount</th>\n",
       "      <th>Target</th>\n",
       "      <th>Balance</th>\n",
       "    </tr>\n",
       "  </thead>\n",
       "  <tbody>\n",
       "    <tr>\n",
       "      <th>333</th>\n",
       "      <td>2022-07-27</td>\n",
       "      <td>-18000.0</td>\n",
       "      <td>ANU CommBank app BPAY 39545 260437241110 Bill</td>\n",
       "      <td>26448.05</td>\n",
       "    </tr>\n",
       "    <tr>\n",
       "      <th>290</th>\n",
       "      <td>2022-08-20</td>\n",
       "      <td>-10824.0</td>\n",
       "      <td>Transfer To Johns CommBank App Reader Dai Boyu</td>\n",
       "      <td>8931.60</td>\n",
       "    </tr>\n",
       "    <tr>\n",
       "      <th>331</th>\n",
       "      <td>2022-07-28</td>\n",
       "      <td>-6000.0</td>\n",
       "      <td>ANU CommBank app BPAY 39545 260437241110</td>\n",
       "      <td>20427.10</td>\n",
       "    </tr>\n",
       "    <tr>\n",
       "      <th>277</th>\n",
       "      <td>2022-08-27</td>\n",
       "      <td>-5504.0</td>\n",
       "      <td>JOHN XXIII COLLEGE ACTON AUS Card xx5767 Value...</td>\n",
       "      <td>3038.74</td>\n",
       "    </tr>\n",
       "    <tr>\n",
       "      <th>2</th>\n",
       "      <td>2022-12-30</td>\n",
       "      <td>-500.0</td>\n",
       "      <td>TOP USED CARS PTY LTD FYSHWICK AU</td>\n",
       "      <td>10851.18</td>\n",
       "    </tr>\n",
       "  </tbody>\n",
       "</table>\n",
       "</div>"
      ],
      "text/plain": [
       "          Date   Amount                                             Target  \\\n",
       "333 2022-07-27 -18000.0      ANU CommBank app BPAY 39545 260437241110 Bill   \n",
       "290 2022-08-20 -10824.0     Transfer To Johns CommBank App Reader Dai Boyu   \n",
       "331 2022-07-28  -6000.0           ANU CommBank app BPAY 39545 260437241110   \n",
       "277 2022-08-27  -5504.0  JOHN XXIII COLLEGE ACTON AUS Card xx5767 Value...   \n",
       "2   2022-12-30   -500.0                  TOP USED CARS PTY LTD FYSHWICK AU   \n",
       "\n",
       "      Balance  \n",
       "333  26448.05  \n",
       "290   8931.60  \n",
       "331  20427.10  \n",
       "277   3038.74  \n",
       "2    10851.18  "
      ]
     },
     "execution_count": 77,
     "metadata": {},
     "output_type": "execute_result"
    }
   ],
   "source": [
    "DFbills_2022_out_dec = DFbills_2022.sort_values(by=[\"Amount\"])\n",
    "DFbills_2022_out_dec.head()"
   ]
  }
 ],
 "metadata": {
  "kernelspec": {
   "display_name": "Python 3",
   "language": "python",
   "name": "python3"
  },
  "language_info": {
   "codemirror_mode": {
    "name": "ipython",
    "version": 3
   },
   "file_extension": ".py",
   "mimetype": "text/x-python",
   "name": "python",
   "nbconvert_exporter": "python",
   "pygments_lexer": "ipython3",
   "version": "3.10.6"
  },
  "orig_nbformat": 4,
  "vscode": {
   "interpreter": {
    "hash": "31f2aee4e71d21fbe5cf8b01ff0e069b9275f58929596ceb00d14d90e3e16cd6"
   }
  }
 },
 "nbformat": 4,
 "nbformat_minor": 2
}
